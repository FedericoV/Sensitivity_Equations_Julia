{
 "metadata": {
  "language": "Julia",
  "name": ""
 },
 "nbformat": 3,
 "nbformat_minor": 0,
 "worksheets": [
  {
   "cells": [
    {
     "cell_type": "code",
     "collapsed": false,
     "input": [
      "using Calculus\n",
      "using ODE\n",
      "using Match"
     ],
     "language": "python",
     "metadata": {},
     "outputs": [],
     "prompt_number": 1
    },
    {
     "cell_type": "code",
     "collapsed": false,
     "input": [
      "function ode_test(t, x, p)\n",
      "    AB = x[1]\n",
      "    C = x[2]\n",
      "    \n",
      "    At = p[1]\n",
      "    Bt = p[2]\n",
      "    k1 = p[3]\n",
      "    k2 = p[4]\n",
      "    k3 = p[5]\n",
      "    k4 = p[6]\n",
      "    A = At - AB\n",
      "    B = Bt - AB\n",
      "    \n",
      "    dAB = k1*A*B - k2*AB\n",
      "    dC = k3*AB - k4*C\n",
      "    output = [dAB, dC]\n",
      "end\n"
     ],
     "language": "python",
     "metadata": {},
     "outputs": [
      {
       "metadata": {},
       "output_type": "pyout",
       "prompt_number": 38,
       "text": [
        "ode_test (generic function with 1 method)"
       ]
      }
     ],
     "prompt_number": 38
    },
    {
     "cell_type": "code",
     "collapsed": false,
     "input": [
      "a = code_lowered(ode_test, (Array{Float64}, Array{Float64, 1}, Array{Float64, 3}))"
     ],
     "language": "python",
     "metadata": {},
     "outputs": [
      {
       "metadata": {},
       "output_type": "pyout",
       "prompt_number": 40,
       "text": [
        "1-element Array{Any,1}:\n",
        " :($(Expr(:lambda, {:t,:x,:p}, {{:AB,:C,:At,:Bt,:k1,:k2,:k3,:k4,:A,:B,:dAB,:dC,:#s62,:output},{{:t,:Any,0},{:x,:Any,0},{:p,:Any,0},{:AB,:Any,18},{:C,:Any,18},{:At,:Any,18},{:Bt,:Any,18},{:k1,:Any,18},{:k2,:Any,18},{:k3,:Any,18},{:k4,:Any,18},{:A,:Any,18},{:B,:Any,18},{:dAB,:Any,18},{:dC,:Any,18},{:#s62,:Any,18},{:output,:Any,18}},{}}, quote  # In[38], line 2:\n",
        "        AB = getindex(x,1) # line 3:\n",
        "        C = getindex(x,2) # line 5:\n",
        "        At = getindex(p,1) # line 6:\n",
        "        Bt = getindex(p,2) # line 7:\n",
        "        k1 = getindex(p,3) # line 8:\n",
        "        k2 = getindex(p,4) # line 9:\n",
        "        k3 = getindex(p,5) # line 10:\n",
        "        k4 = getindex(p,6) # line 11:\n",
        "        A = -(At,AB) # line 12:\n",
        "        B = -(Bt,AB) # line 14:\n",
        "        dAB = -(*(k1,A,B),*(k2,AB)) # line 15:\n",
        "        dC = -(*(k3,AB),*(k4,C)) # line 16:\n",
        "        #s62 = vcat(dAB,dC)\n",
        "        output = #s62\n",
        "        return #s62\n",
        "    end)))"
       ]
      }
     ],
     "prompt_number": 40
    },
    {
     "cell_type": "code",
     "collapsed": false,
     "input": [
      "c = :(AB = getindex(x,1))"
     ],
     "language": "python",
     "metadata": {},
     "outputs": [
      {
       "metadata": {},
       "output_type": "pyout",
       "prompt_number": 4,
       "text": [
        ":(AB = getindex(x,1))"
       ]
      }
     ],
     "prompt_number": 4
    },
    {
     "cell_type": "code",
     "collapsed": false,
     "input": [
      "line = a[1].args[3].args[2]\n",
      "line.args[2]\n",
      "rhs = line.args[2]\n",
      "println (line.args)\n",
      "\n",
      "\n",
      "\n",
      "if rhs.args[1] == :getindex\n",
      "    print (\"hello\")\n",
      "    if rhs.args[2] == :p\n",
      "        print (\"parameter\")\n",
      "    elseif rhs.args[2] == :x\n",
      "        print (\"state variable\")\n",
      "    end\n",
      "end"
     ],
     "language": "python",
     "metadata": {},
     "outputs": [
      {
       "output_type": "stream",
       "stream": "stdout",
       "text": [
        "AB\n",
        ":(getindex(x,1))\n",
        "\n"
       ]
      },
      {
       "output_type": "stream",
       "stream": "stdout",
       "text": [
        "hellostate variable"
       ]
      }
     ],
     "prompt_number": 5
    },
    {
     "cell_type": "code",
     "collapsed": false,
     "input": [
      "state_variables = []\n",
      "parameters = []\n",
      "n_lines = length(a[1].args[3].args)\n",
      "\n",
      "\n",
      "for i = 1:n_lines\n",
      "    line = a[1].args[3].args[i]\n",
      "        \n",
      "    #println(line)\n",
      "    if typeof(line) == LineNumberNode  || line.head == :return\n",
      "        continue\n",
      "    end\n",
      "    \n",
      "    println(i)\n",
      "    println(line)\n",
      "    println(line.head)\n",
      "    println(line.args)\n",
      "    println(\"\\n\")\n",
      "    \n",
      "    rhs = line.args[2]\n",
      "    lhs = line.args[1]\n",
      "    \n",
      "    if typeof(rhs) == Symbol\n",
      "        continue\n",
      "    end\n",
      "    \n",
      "    if rhs.args[1] == :getindex\n",
      "        if rhs.args[2] == :p\n",
      "            parameters = [parameters, lhs]\n",
      "        elseif rhs.args[2] == :x\n",
      "            state_variables = [state_variables, lhs]\n",
      "        end\n",
      "    end\n",
      "    \n",
      "    \n",
      "end"
     ],
     "language": "python",
     "metadata": {},
     "outputs": [
      {
       "output_type": "stream",
       "stream": "stdout",
       "text": [
        "1\n"
       ]
      },
      {
       "output_type": "stream",
       "stream": "stdout",
       "text": [
        ":( # In[32], line 2:)\n",
        "line\n",
        "2\n",
        "In[32]\n",
        "\n",
        "\n",
        "\n",
        "2\n",
        ":(AB = getindex(x,1))\n",
        "=\n",
        "AB\n",
        ":(getindex(x,1))\n",
        "\n",
        "\n",
        "\n",
        "4\n",
        ":(C = getindex(x,2))\n",
        "=\n",
        "C\n",
        ":(getindex(x,2))\n",
        "\n",
        "\n",
        "\n",
        "6\n",
        ":(At = getindex(p,1))\n",
        "=\n",
        "At\n",
        ":(getindex(p,1))\n",
        "\n",
        "\n",
        "\n",
        "8\n",
        ":(Bt = getindex(p,2))\n",
        "=\n",
        "Bt\n",
        ":(getindex(p,2))\n",
        "\n",
        "\n",
        "\n",
        "10\n",
        ":(k1 = getindex(p,3))\n",
        "=\n",
        "k1\n",
        ":(getindex(p,3))\n",
        "\n",
        "\n",
        "\n",
        "12\n",
        ":(k2 = getindex(p,4))\n",
        "=\n",
        "k2\n",
        ":(getindex(p,4))\n",
        "\n",
        "\n",
        "\n",
        "14\n",
        ":(k3 = getindex(p,5))\n",
        "=\n",
        "k3\n",
        ":(getindex(p,5))\n",
        "\n",
        "\n",
        "\n",
        "16\n",
        ":(k4 = getindex(p,6))\n",
        "=\n",
        "k4\n",
        ":(getindex(p,6))\n",
        "\n",
        "\n",
        "\n",
        "18\n",
        ":(A = -(At,AB))\n",
        "=\n",
        "A\n",
        ":(-(At,AB))\n",
        "\n",
        "\n",
        "\n",
        "20\n",
        ":(B = -(Bt,AB))\n",
        "=\n",
        "B\n",
        ":(-(Bt,AB))\n",
        "\n",
        "\n",
        "\n",
        "22\n",
        ":(dAB = -(*(k1,A,B),*(k2,AB)))\n",
        "=\n",
        "dAB\n",
        ":(-(*(k1,A,B),*(k2,AB)))\n",
        "\n",
        "\n",
        "\n",
        "24\n",
        ":(dC = -(*(k3,AB),*(k4,C)))\n",
        "=\n",
        "dC\n",
        ":(-(*(k3,AB),*(k4,C)))\n",
        "\n",
        "\n",
        "\n",
        "26\n",
        ":(#s112 = vcat(dAB))\n",
        "=\n",
        "#s112\n",
        ":(vcat(dAB))\n",
        "\n",
        "\n",
        "\n",
        "27\n",
        ":(output = #s112)\n",
        "=\n",
        "output\n",
        "#s112\n",
        "\n",
        "\n",
        "\n"
       ]
      }
     ],
     "prompt_number": 37
    },
    {
     "cell_type": "code",
     "collapsed": false,
     "input": [
      "state_variables"
     ],
     "language": "python",
     "metadata": {},
     "outputs": [
      {
       "metadata": {},
       "output_type": "pyout",
       "prompt_number": 35,
       "text": [
        "2-element Array{Symbol,1}:\n",
        " :AB\n",
        " :C "
       ]
      }
     ],
     "prompt_number": 35
    },
    {
     "cell_type": "code",
     "collapsed": false,
     "input": [
      "line = :(dAB = -(*(k1,A,B),*(k2,AB)))\n",
      "expressions = {\n",
      "    :B => :(-(Bt,AB)),\n",
      "    :A => :(-(At,AB))\n",
      "}\n"
     ],
     "language": "python",
     "metadata": {},
     "outputs": [
      {
       "metadata": {},
       "output_type": "pyout",
       "prompt_number": 70,
       "text": [
        "{:A=>:(-(At,AB)),:B=>:(-(Bt,AB))}"
       ]
      }
     ],
     "prompt_number": 70
    },
    {
     "cell_type": "code",
     "collapsed": false,
     "input": [
      "rhs = line.args[2]\n",
      "typeof(rhs)\n"
     ],
     "language": "python",
     "metadata": {},
     "outputs": [
      {
       "metadata": {},
       "output_type": "pyout",
       "prompt_number": 52,
       "text": [
        "Expr"
       ]
      }
     ],
     "prompt_number": 52
    },
    {
     "cell_type": "code",
     "collapsed": false,
     "input": [
      "function substitute(rhs, lookup_subs)\n",
      "    if typeof(rhs) == Symbol\n",
      "        if haskey(lookup_subs, rhs)\n",
      "            println(\"Replacing $rhs with $(lookup_subs[rhs])\")\n",
      "            rhs = lookup_subs[rhs]\n",
      "        end\n",
      "        rhs = \"$rhs,hi\"\n",
      "        return rhs\n",
      "    else\n",
      "        args = rhs.args\n",
      "        rhs = join([substitute(arg, lookup_subs) for arg in args], \" \")\n",
      "    end\n",
      "end"
     ],
     "language": "python",
     "metadata": {},
     "outputs": [
      {
       "metadata": {},
       "output_type": "pyout",
       "prompt_number": 163,
       "text": [
        "substitute (generic function with 1 method)"
       ]
      }
     ],
     "prompt_number": 163
    },
    {
     "cell_type": "code",
     "collapsed": false,
     "input": [
      "rhs = :(-(*(k1,A,B),*(k2,AB)))\n",
      "a = substitute(rhs, expressions)\n",
      "println(rhs)\n",
      "println(a)"
     ],
     "language": "python",
     "metadata": {},
     "outputs": [
      {
       "output_type": "stream",
       "stream": "stdout",
       "text": [
        "Replacing A with :(-(At,AB))\n"
       ]
      },
      {
       "output_type": "stream",
       "stream": "stdout",
       "text": [
        "Replacing B with :(-(Bt,AB))\n",
        ":(-(*(k1,A,B),*(k2,AB)))\n",
        "-,hi *,hi k1,hi :(-(At,AB)),hi :(-(Bt,AB)),hi *,hi k2,hi AB,hi\n"
       ]
      }
     ],
     "prompt_number": 164
    },
    {
     "cell_type": "code",
     "collapsed": false,
     "input": [
      "help(join)"
     ],
     "language": "python",
     "metadata": {},
     "outputs": [
      {
       "output_type": "stream",
       "stream": "stdout",
       "text": [
        "Base.join(strings, delim)\n",
        "\n",
        "   Join an array of strings into a single string, inserting the given\n",
        "   delimiter between adjacent strings.\n"
       ]
      }
     ],
     "prompt_number": 155
    },
    {
     "cell_type": "code",
     "collapsed": false,
     "input": [
      "typeof(:-)"
     ],
     "language": "python",
     "metadata": {},
     "outputs": [
      {
       "metadata": {},
       "output_type": "pyout",
       "prompt_number": 165,
       "text": [
        "Symbol"
       ]
      }
     ],
     "prompt_number": 165
    },
    {
     "cell_type": "code",
     "collapsed": false,
     "input": [
      "typeof(:B)\n",
      "typeof($(:B))"
     ],
     "language": "python",
     "metadata": {},
     "outputs": [
      {
       "ename": "LoadError",
       "evalue": "unsupported or misplaced expression $\nwhile loading In[166], in expression starting on line 2",
       "output_type": "pyerr",
       "traceback": [
        "unsupported or misplaced expression $\nwhile loading In[166], in expression starting on line 2"
       ]
      }
     ],
     "prompt_number": 166
    },
    {
     "cell_type": "code",
     "collapsed": false,
     "input": [
      "$:B"
     ],
     "language": "python",
     "metadata": {},
     "outputs": [
      {
       "ename": "LoadError",
       "evalue": "unsupported or misplaced expression $\nwhile loading In[167], in expression starting on line 1",
       "output_type": "pyerr",
       "traceback": [
        "unsupported or misplaced expression $\nwhile loading In[167], in expression starting on line 1"
       ]
      }
     ],
     "prompt_number": 167
    },
    {
     "cell_type": "code",
     "collapsed": false,
     "input": [
      "quote\n",
      "    :B\n",
      "end"
     ],
     "language": "python",
     "metadata": {},
     "outputs": [
      {
       "metadata": {},
       "output_type": "pyout",
       "prompt_number": 175,
       "text": [
        "quote  # In[175], line 2:\n",
        "    :B\n",
        "end"
       ]
      }
     ],
     "prompt_number": 175
    },
    {
     "cell_type": "code",
     "collapsed": false,
     "input": [
      "for op = (:+, :*, :&, :|, :$)\n",
      "  eval(quote\n",
      "    ($op)(a,b,c) = ($op)(($op)(a,b),c)\n",
      "  end)\n",
      "end"
     ],
     "language": "python",
     "metadata": {},
     "outputs": [
      {
       "output_type": "stream",
       "stream": "stderr",
       "text": [
        "Warning: Method definition +(Any"
       ]
      },
      {
       "output_type": "stream",
       "stream": "stderr",
       "text": [
        ",Any,Any) in module Base at operators.jl:67 overwritten in module Main at In[169]:3.\n",
        "Warning: Method definition *(Any,Any,Any) in module Base at operators.jl:67 overwritten in module Main at In[169]:3.\n",
        "Warning: Method definition &(Any,Any,Any) in module Base at operators.jl:67 overwritten in module Main at In[169]:3.\n",
        "Warning: Method definition |(Any,Any,Any) in module Base at operators.jl:67 overwritten in module Main at In[169]:3.\n",
        "Warning: Method definition $(Any,Any,Any)"
       ]
      },
      {
       "output_type": "stream",
       "stream": "stderr",
       "text": [
        " in module Base at operators.jl:67 overwritten in module Main at In[169]:3.\n"
       ]
      }
     ],
     "prompt_number": 169
    },
    {
     "cell_type": "code",
     "collapsed": false,
     "input": [
      "op = :+\n",
      "quote\n",
      "    ($op)(a,b,c) = ($op)(($op)(a,b),c)\n",
      "end"
     ],
     "language": "python",
     "metadata": {},
     "outputs": [
      {
       "metadata": {},
       "output_type": "pyout",
       "prompt_number": 174,
       "text": [
        "quote  # In[174], line 2:\n",
        "    +(a,b,c) = begin  # In[174], line 2:\n",
        "            +(+(a,b),c)\n",
        "        end\n",
        "end"
       ]
      }
     ],
     "prompt_number": 174
    },
    {
     "cell_type": "code",
     "collapsed": false,
     "input": [],
     "language": "python",
     "metadata": {},
     "outputs": []
    }
   ],
   "metadata": {}
  }
 ]
}